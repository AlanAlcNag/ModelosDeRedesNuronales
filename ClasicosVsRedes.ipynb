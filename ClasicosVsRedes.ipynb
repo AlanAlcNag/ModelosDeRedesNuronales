{
 "cells": [
  {
   "cell_type": "markdown",
   "metadata": {},
   "source": [
    "Alan Alcántara Nagamatsu - https://medium.com/@a01640155/probando-distintos-métodos-de-clasificación-de-imágenes-bc71de18b7ec\n",
    "Ramiro Alejandro Ruiz Carranza"
   ]
  },
  {
   "cell_type": "code",
   "execution_count": 1,
   "metadata": {},
   "outputs": [],
   "source": [
    "import pandas as pd\n",
    "import numpy as np\n",
    "from sklearn.preprocessing import normalize\n",
    "from sklearn.model_selection import train_test_split"
   ]
  },
  {
   "cell_type": "markdown",
   "metadata": {},
   "source": [
    "## Extracción y normalización de datos"
   ]
  },
  {
   "cell_type": "markdown",
   "metadata": {},
   "source": [
    "Datos de MNIST-Fashion"
   ]
  },
  {
   "cell_type": "code",
   "execution_count": 2,
   "metadata": {},
   "outputs": [],
   "source": [
    "mnist_train_data = pd.read_csv(\"fashion-mnist_train.csv\")\n",
    "mnist_test_data = pd.read_csv('fashion-mnist_test.csv')"
   ]
  },
  {
   "cell_type": "code",
   "execution_count": 3,
   "metadata": {},
   "outputs": [],
   "source": [
    "mnist_X_train = normalize(mnist_train_data.iloc[:,1:], axis=0)\n",
    "mnist_y_train = mnist_train_data.iloc[:,0]\n",
    "mnist_X_test = normalize(mnist_test_data.iloc[:,1:], axis=0)\n",
    "mnist_y_test = mnist_test_data.iloc[:,0]"
   ]
  },
  {
   "cell_type": "markdown",
   "metadata": {},
   "source": [
    "Datos de emojis"
   ]
  },
  {
   "cell_type": "code",
   "execution_count": 2,
   "metadata": {},
   "outputs": [],
   "source": [
    "emojis_data = np.loadtxt('emojis.txt')\n",
    "emojis_X = normalize(emojis_data[:,1:], axis=0)\n",
    "emojis_y = emojis_data[:,0]"
   ]
  },
  {
   "cell_type": "code",
   "execution_count": 3,
   "metadata": {},
   "outputs": [],
   "source": [
    "emoji_X_train, emoji_X_test, emoji_y_train, emoji_y_test = train_test_split(emojis_X, emojis_y)"
   ]
  },
  {
   "cell_type": "markdown",
   "metadata": {},
   "source": [
    "Datos de imágenes satelitales"
   ]
  },
  {
   "cell_type": "code",
   "execution_count": 10,
   "metadata": {},
   "outputs": [],
   "source": [
    "satelite_data = np.loadtxt('satelitales.csv', delimiter=',')\n",
    "satelite_X = normalize(satelite_data[:,1:], axis=0)\n",
    "satelite_y = satelite_data[:,0]"
   ]
  },
  {
   "cell_type": "code",
   "execution_count": 11,
   "metadata": {},
   "outputs": [],
   "source": [
    "satelite_X_train, satelite_X_test, satelite_y_train, satelite_y_test = train_test_split(satelite_X, satelite_y, stratify=satelite_y)"
   ]
  },
  {
   "cell_type": "markdown",
   "metadata": {},
   "source": [
    "## Evaluación de modelos clásicos de aprendizaje supervisado"
   ]
  },
  {
   "cell_type": "markdown",
   "metadata": {},
   "source": [
    "### Clasificación lineal - SVM, kernel = lineal"
   ]
  },
  {
   "cell_type": "code",
   "execution_count": 8,
   "metadata": {},
   "outputs": [],
   "source": [
    "from sklearn.model_selection import GridSearchCV\n",
    "from sklearn.svm import SVC\n",
    "from sklearn.metrics import recall_score, accuracy_score"
   ]
  },
  {
   "cell_type": "markdown",
   "metadata": {},
   "source": [
    "#### MNIST"
   ]
  },
  {
   "cell_type": "code",
   "execution_count": 9,
   "metadata": {},
   "outputs": [
    {
     "name": "stdout",
     "output_type": "stream",
     "text": [
      "C: 10, Accuracy: 0.7764, Recall: 0.7764\n",
      "C: 20, Accuracy: 0.7936, Recall: 0.7936\n",
      "C: 30, Accuracy: 0.8049, Recall: 0.8049\n",
      "C: 40, Accuracy: 0.8088, Recall: 0.8088\n",
      "C: 50, Accuracy: 0.8124, Recall: 0.8124\n",
      "C: 60, Accuracy: 0.8146, Recall: 0.8146\n",
      "C: 70, Accuracy: 0.8164, Recall: 0.8164\n",
      "C: 80, Accuracy: 0.8176, Recall: 0.8176\n",
      "C: 90, Accuracy: 0.8185, Recall: 0.8185\n"
     ]
    }
   ],
   "source": [
    "for c in [i for i in range(10,100,10)]:\n",
    "    mnist_clf = SVC(kernel='linear', C=c, random_state=4)\n",
    "    mnist_clf.fit(mnist_X_train, mnist_y_train)\n",
    "    mnist_lin_pred = mnist_clf.predict(mnist_X_test)\n",
    "    mnist_lin_acc = accuracy_score(mnist_y_test, mnist_lin_pred)\n",
    "    mnist_lin_rec = recall_score(mnist_y_test, mnist_lin_pred, average='weighted')\n",
    "    print(f'C: {c}, Accuracy: {mnist_lin_acc}, Recall: {mnist_lin_rec}')"
   ]
  },
  {
   "cell_type": "markdown",
   "metadata": {},
   "source": [
    "#### Emojis"
   ]
  },
  {
   "cell_type": "code",
   "execution_count": 45,
   "metadata": {},
   "outputs": [],
   "source": [
    "emoji_parameters = {'kernel':['linear'], 'C':[i for i in range(1,20,1)], 'gamma':['scale', 'auto']}"
   ]
  },
  {
   "cell_type": "code",
   "execution_count": 52,
   "metadata": {},
   "outputs": [
    {
     "name": "stdout",
     "output_type": "stream",
     "text": [
      "Fitting 5 folds for each of 38 candidates, totalling 190 fits\n"
     ]
    },
    {
     "data": {
      "text/html": [
       "<style>#sk-container-id-3 {color: black;background-color: white;}#sk-container-id-3 pre{padding: 0;}#sk-container-id-3 div.sk-toggleable {background-color: white;}#sk-container-id-3 label.sk-toggleable__label {cursor: pointer;display: block;width: 100%;margin-bottom: 0;padding: 0.3em;box-sizing: border-box;text-align: center;}#sk-container-id-3 label.sk-toggleable__label-arrow:before {content: \"▸\";float: left;margin-right: 0.25em;color: #696969;}#sk-container-id-3 label.sk-toggleable__label-arrow:hover:before {color: black;}#sk-container-id-3 div.sk-estimator:hover label.sk-toggleable__label-arrow:before {color: black;}#sk-container-id-3 div.sk-toggleable__content {max-height: 0;max-width: 0;overflow: hidden;text-align: left;background-color: #f0f8ff;}#sk-container-id-3 div.sk-toggleable__content pre {margin: 0.2em;color: black;border-radius: 0.25em;background-color: #f0f8ff;}#sk-container-id-3 input.sk-toggleable__control:checked~div.sk-toggleable__content {max-height: 200px;max-width: 100%;overflow: auto;}#sk-container-id-3 input.sk-toggleable__control:checked~label.sk-toggleable__label-arrow:before {content: \"▾\";}#sk-container-id-3 div.sk-estimator input.sk-toggleable__control:checked~label.sk-toggleable__label {background-color: #d4ebff;}#sk-container-id-3 div.sk-label input.sk-toggleable__control:checked~label.sk-toggleable__label {background-color: #d4ebff;}#sk-container-id-3 input.sk-hidden--visually {border: 0;clip: rect(1px 1px 1px 1px);clip: rect(1px, 1px, 1px, 1px);height: 1px;margin: -1px;overflow: hidden;padding: 0;position: absolute;width: 1px;}#sk-container-id-3 div.sk-estimator {font-family: monospace;background-color: #f0f8ff;border: 1px dotted black;border-radius: 0.25em;box-sizing: border-box;margin-bottom: 0.5em;}#sk-container-id-3 div.sk-estimator:hover {background-color: #d4ebff;}#sk-container-id-3 div.sk-parallel-item::after {content: \"\";width: 100%;border-bottom: 1px solid gray;flex-grow: 1;}#sk-container-id-3 div.sk-label:hover label.sk-toggleable__label {background-color: #d4ebff;}#sk-container-id-3 div.sk-serial::before {content: \"\";position: absolute;border-left: 1px solid gray;box-sizing: border-box;top: 0;bottom: 0;left: 50%;z-index: 0;}#sk-container-id-3 div.sk-serial {display: flex;flex-direction: column;align-items: center;background-color: white;padding-right: 0.2em;padding-left: 0.2em;position: relative;}#sk-container-id-3 div.sk-item {position: relative;z-index: 1;}#sk-container-id-3 div.sk-parallel {display: flex;align-items: stretch;justify-content: center;background-color: white;position: relative;}#sk-container-id-3 div.sk-item::before, #sk-container-id-3 div.sk-parallel-item::before {content: \"\";position: absolute;border-left: 1px solid gray;box-sizing: border-box;top: 0;bottom: 0;left: 50%;z-index: -1;}#sk-container-id-3 div.sk-parallel-item {display: flex;flex-direction: column;z-index: 1;position: relative;background-color: white;}#sk-container-id-3 div.sk-parallel-item:first-child::after {align-self: flex-end;width: 50%;}#sk-container-id-3 div.sk-parallel-item:last-child::after {align-self: flex-start;width: 50%;}#sk-container-id-3 div.sk-parallel-item:only-child::after {width: 0;}#sk-container-id-3 div.sk-dashed-wrapped {border: 1px dashed gray;margin: 0 0.4em 0.5em 0.4em;box-sizing: border-box;padding-bottom: 0.4em;background-color: white;}#sk-container-id-3 div.sk-label label {font-family: monospace;font-weight: bold;display: inline-block;line-height: 1.2em;}#sk-container-id-3 div.sk-label-container {text-align: center;}#sk-container-id-3 div.sk-container {/* jupyter's `normalize.less` sets `[hidden] { display: none; }` but bootstrap.min.css set `[hidden] { display: none !important; }` so we also need the `!important` here to be able to override the default hidden behavior on the sphinx rendered scikit-learn.org. See: https://github.com/scikit-learn/scikit-learn/issues/21755 */display: inline-block !important;position: relative;}#sk-container-id-3 div.sk-text-repr-fallback {display: none;}</style><div id=\"sk-container-id-3\" class=\"sk-top-container\"><div class=\"sk-text-repr-fallback\"><pre>GridSearchCV(estimator=SVC(), n_jobs=5,\n",
       "             param_grid={&#x27;C&#x27;: [1, 2, 3, 4, 5, 6, 7, 8, 9, 10, 11, 12, 13, 14,\n",
       "                               15, 16, 17, 18, 19],\n",
       "                         &#x27;gamma&#x27;: [&#x27;scale&#x27;, &#x27;auto&#x27;], &#x27;kernel&#x27;: [&#x27;linear&#x27;]},\n",
       "             refit=&#x27;recall_macro&#x27;, scoring=(&#x27;accuracy&#x27;, &#x27;recall_macro&#x27;),\n",
       "             verbose=3)</pre><b>In a Jupyter environment, please rerun this cell to show the HTML representation or trust the notebook. <br />On GitHub, the HTML representation is unable to render, please try loading this page with nbviewer.org.</b></div><div class=\"sk-container\" hidden><div class=\"sk-item sk-dashed-wrapped\"><div class=\"sk-label-container\"><div class=\"sk-label sk-toggleable\"><input class=\"sk-toggleable__control sk-hidden--visually\" id=\"sk-estimator-id-7\" type=\"checkbox\" ><label for=\"sk-estimator-id-7\" class=\"sk-toggleable__label sk-toggleable__label-arrow\">GridSearchCV</label><div class=\"sk-toggleable__content\"><pre>GridSearchCV(estimator=SVC(), n_jobs=5,\n",
       "             param_grid={&#x27;C&#x27;: [1, 2, 3, 4, 5, 6, 7, 8, 9, 10, 11, 12, 13, 14,\n",
       "                               15, 16, 17, 18, 19],\n",
       "                         &#x27;gamma&#x27;: [&#x27;scale&#x27;, &#x27;auto&#x27;], &#x27;kernel&#x27;: [&#x27;linear&#x27;]},\n",
       "             refit=&#x27;recall_macro&#x27;, scoring=(&#x27;accuracy&#x27;, &#x27;recall_macro&#x27;),\n",
       "             verbose=3)</pre></div></div></div><div class=\"sk-parallel\"><div class=\"sk-parallel-item\"><div class=\"sk-item\"><div class=\"sk-label-container\"><div class=\"sk-label sk-toggleable\"><input class=\"sk-toggleable__control sk-hidden--visually\" id=\"sk-estimator-id-8\" type=\"checkbox\" ><label for=\"sk-estimator-id-8\" class=\"sk-toggleable__label sk-toggleable__label-arrow\">estimator: SVC</label><div class=\"sk-toggleable__content\"><pre>SVC()</pre></div></div></div><div class=\"sk-serial\"><div class=\"sk-item\"><div class=\"sk-estimator sk-toggleable\"><input class=\"sk-toggleable__control sk-hidden--visually\" id=\"sk-estimator-id-9\" type=\"checkbox\" ><label for=\"sk-estimator-id-9\" class=\"sk-toggleable__label sk-toggleable__label-arrow\">SVC</label><div class=\"sk-toggleable__content\"><pre>SVC()</pre></div></div></div></div></div></div></div></div></div></div>"
      ],
      "text/plain": [
       "GridSearchCV(estimator=SVC(), n_jobs=5,\n",
       "             param_grid={'C': [1, 2, 3, 4, 5, 6, 7, 8, 9, 10, 11, 12, 13, 14,\n",
       "                               15, 16, 17, 18, 19],\n",
       "                         'gamma': ['scale', 'auto'], 'kernel': ['linear']},\n",
       "             refit='recall_macro', scoring=('accuracy', 'recall_macro'),\n",
       "             verbose=3)"
      ]
     },
     "execution_count": 52,
     "metadata": {},
     "output_type": "execute_result"
    }
   ],
   "source": [
    "emoji_clf = GridSearchCV(SVC(), param_grid=emoji_parameters, scoring=('accuracy', 'recall_macro'), n_jobs = 5, verbose=3, refit='recall_macro')\n",
    "emoji_clf.fit(emoji_X_train, emoji_y_train)"
   ]
  },
  {
   "cell_type": "code",
   "execution_count": 54,
   "metadata": {},
   "outputs": [
    {
     "name": "stdout",
     "output_type": "stream",
     "text": [
      "{'C': 5, 'gamma': 'scale', 'kernel': 'linear'}\n",
      "0.8067575030943452\n"
     ]
    }
   ],
   "source": [
    "print(emoji_clf.best_params_)\n",
    "print(emoji_clf.best_score_)"
   ]
  },
  {
   "cell_type": "code",
   "execution_count": 61,
   "metadata": {},
   "outputs": [],
   "source": [
    "emoji_lin_pred = emoji_clf.predict(emoji_X_test)\n",
    "emoji_lin_acc = accuracy_score(emoji_y_test,emoji_lin_pred)\n",
    "emoji_lin_rec = recall_score(emoji_y_test,emoji_lin_pred, average='macro')"
   ]
  },
  {
   "cell_type": "code",
   "execution_count": 62,
   "metadata": {},
   "outputs": [
    {
     "name": "stdout",
     "output_type": "stream",
     "text": [
      "Accuracy: 0.8495145631067961, Recall: 0.8473631771492242\n"
     ]
    }
   ],
   "source": [
    "print(f'Accuracy: {emoji_lin_acc}, Recall: {emoji_lin_rec}')"
   ]
  },
  {
   "cell_type": "markdown",
   "metadata": {},
   "source": [
    "#### Satelitales"
   ]
  },
  {
   "cell_type": "code",
   "execution_count": 14,
   "metadata": {},
   "outputs": [],
   "source": [
    "satelite_parameters = {'kernel':['linear'], 'C':[i for i in range(1,500,10)], 'gamma':['scale', 'auto']}"
   ]
  },
  {
   "cell_type": "code",
   "execution_count": 15,
   "metadata": {},
   "outputs": [
    {
     "name": "stdout",
     "output_type": "stream",
     "text": [
      "Fitting 5 folds for each of 100 candidates, totalling 500 fits\n"
     ]
    },
    {
     "data": {
      "text/html": [
       "<style>#sk-container-id-2 {color: black;background-color: white;}#sk-container-id-2 pre{padding: 0;}#sk-container-id-2 div.sk-toggleable {background-color: white;}#sk-container-id-2 label.sk-toggleable__label {cursor: pointer;display: block;width: 100%;margin-bottom: 0;padding: 0.3em;box-sizing: border-box;text-align: center;}#sk-container-id-2 label.sk-toggleable__label-arrow:before {content: \"▸\";float: left;margin-right: 0.25em;color: #696969;}#sk-container-id-2 label.sk-toggleable__label-arrow:hover:before {color: black;}#sk-container-id-2 div.sk-estimator:hover label.sk-toggleable__label-arrow:before {color: black;}#sk-container-id-2 div.sk-toggleable__content {max-height: 0;max-width: 0;overflow: hidden;text-align: left;background-color: #f0f8ff;}#sk-container-id-2 div.sk-toggleable__content pre {margin: 0.2em;color: black;border-radius: 0.25em;background-color: #f0f8ff;}#sk-container-id-2 input.sk-toggleable__control:checked~div.sk-toggleable__content {max-height: 200px;max-width: 100%;overflow: auto;}#sk-container-id-2 input.sk-toggleable__control:checked~label.sk-toggleable__label-arrow:before {content: \"▾\";}#sk-container-id-2 div.sk-estimator input.sk-toggleable__control:checked~label.sk-toggleable__label {background-color: #d4ebff;}#sk-container-id-2 div.sk-label input.sk-toggleable__control:checked~label.sk-toggleable__label {background-color: #d4ebff;}#sk-container-id-2 input.sk-hidden--visually {border: 0;clip: rect(1px 1px 1px 1px);clip: rect(1px, 1px, 1px, 1px);height: 1px;margin: -1px;overflow: hidden;padding: 0;position: absolute;width: 1px;}#sk-container-id-2 div.sk-estimator {font-family: monospace;background-color: #f0f8ff;border: 1px dotted black;border-radius: 0.25em;box-sizing: border-box;margin-bottom: 0.5em;}#sk-container-id-2 div.sk-estimator:hover {background-color: #d4ebff;}#sk-container-id-2 div.sk-parallel-item::after {content: \"\";width: 100%;border-bottom: 1px solid gray;flex-grow: 1;}#sk-container-id-2 div.sk-label:hover label.sk-toggleable__label {background-color: #d4ebff;}#sk-container-id-2 div.sk-serial::before {content: \"\";position: absolute;border-left: 1px solid gray;box-sizing: border-box;top: 0;bottom: 0;left: 50%;z-index: 0;}#sk-container-id-2 div.sk-serial {display: flex;flex-direction: column;align-items: center;background-color: white;padding-right: 0.2em;padding-left: 0.2em;position: relative;}#sk-container-id-2 div.sk-item {position: relative;z-index: 1;}#sk-container-id-2 div.sk-parallel {display: flex;align-items: stretch;justify-content: center;background-color: white;position: relative;}#sk-container-id-2 div.sk-item::before, #sk-container-id-2 div.sk-parallel-item::before {content: \"\";position: absolute;border-left: 1px solid gray;box-sizing: border-box;top: 0;bottom: 0;left: 50%;z-index: -1;}#sk-container-id-2 div.sk-parallel-item {display: flex;flex-direction: column;z-index: 1;position: relative;background-color: white;}#sk-container-id-2 div.sk-parallel-item:first-child::after {align-self: flex-end;width: 50%;}#sk-container-id-2 div.sk-parallel-item:last-child::after {align-self: flex-start;width: 50%;}#sk-container-id-2 div.sk-parallel-item:only-child::after {width: 0;}#sk-container-id-2 div.sk-dashed-wrapped {border: 1px dashed gray;margin: 0 0.4em 0.5em 0.4em;box-sizing: border-box;padding-bottom: 0.4em;background-color: white;}#sk-container-id-2 div.sk-label label {font-family: monospace;font-weight: bold;display: inline-block;line-height: 1.2em;}#sk-container-id-2 div.sk-label-container {text-align: center;}#sk-container-id-2 div.sk-container {/* jupyter's `normalize.less` sets `[hidden] { display: none; }` but bootstrap.min.css set `[hidden] { display: none !important; }` so we also need the `!important` here to be able to override the default hidden behavior on the sphinx rendered scikit-learn.org. See: https://github.com/scikit-learn/scikit-learn/issues/21755 */display: inline-block !important;position: relative;}#sk-container-id-2 div.sk-text-repr-fallback {display: none;}</style><div id=\"sk-container-id-2\" class=\"sk-top-container\"><div class=\"sk-text-repr-fallback\"><pre>GridSearchCV(estimator=SVC(), n_jobs=5,\n",
       "             param_grid={&#x27;C&#x27;: [1, 11, 21, 31, 41, 51, 61, 71, 81, 91, 101, 111,\n",
       "                               121, 131, 141, 151, 161, 171, 181, 191, 201, 211,\n",
       "                               221, 231, 241, 251, 261, 271, 281, 291, ...],\n",
       "                         &#x27;gamma&#x27;: [&#x27;scale&#x27;, &#x27;auto&#x27;], &#x27;kernel&#x27;: [&#x27;linear&#x27;]},\n",
       "             refit=&#x27;recall_macro&#x27;, scoring=(&#x27;accuracy&#x27;, &#x27;recall_macro&#x27;),\n",
       "             verbose=3)</pre><b>In a Jupyter environment, please rerun this cell to show the HTML representation or trust the notebook. <br />On GitHub, the HTML representation is unable to render, please try loading this page with nbviewer.org.</b></div><div class=\"sk-container\" hidden><div class=\"sk-item sk-dashed-wrapped\"><div class=\"sk-label-container\"><div class=\"sk-label sk-toggleable\"><input class=\"sk-toggleable__control sk-hidden--visually\" id=\"sk-estimator-id-4\" type=\"checkbox\" ><label for=\"sk-estimator-id-4\" class=\"sk-toggleable__label sk-toggleable__label-arrow\">GridSearchCV</label><div class=\"sk-toggleable__content\"><pre>GridSearchCV(estimator=SVC(), n_jobs=5,\n",
       "             param_grid={&#x27;C&#x27;: [1, 11, 21, 31, 41, 51, 61, 71, 81, 91, 101, 111,\n",
       "                               121, 131, 141, 151, 161, 171, 181, 191, 201, 211,\n",
       "                               221, 231, 241, 251, 261, 271, 281, 291, ...],\n",
       "                         &#x27;gamma&#x27;: [&#x27;scale&#x27;, &#x27;auto&#x27;], &#x27;kernel&#x27;: [&#x27;linear&#x27;]},\n",
       "             refit=&#x27;recall_macro&#x27;, scoring=(&#x27;accuracy&#x27;, &#x27;recall_macro&#x27;),\n",
       "             verbose=3)</pre></div></div></div><div class=\"sk-parallel\"><div class=\"sk-parallel-item\"><div class=\"sk-item\"><div class=\"sk-label-container\"><div class=\"sk-label sk-toggleable\"><input class=\"sk-toggleable__control sk-hidden--visually\" id=\"sk-estimator-id-5\" type=\"checkbox\" ><label for=\"sk-estimator-id-5\" class=\"sk-toggleable__label sk-toggleable__label-arrow\">estimator: SVC</label><div class=\"sk-toggleable__content\"><pre>SVC()</pre></div></div></div><div class=\"sk-serial\"><div class=\"sk-item\"><div class=\"sk-estimator sk-toggleable\"><input class=\"sk-toggleable__control sk-hidden--visually\" id=\"sk-estimator-id-6\" type=\"checkbox\" ><label for=\"sk-estimator-id-6\" class=\"sk-toggleable__label sk-toggleable__label-arrow\">SVC</label><div class=\"sk-toggleable__content\"><pre>SVC()</pre></div></div></div></div></div></div></div></div></div></div>"
      ],
      "text/plain": [
       "GridSearchCV(estimator=SVC(), n_jobs=5,\n",
       "             param_grid={'C': [1, 11, 21, 31, 41, 51, 61, 71, 81, 91, 101, 111,\n",
       "                               121, 131, 141, 151, 161, 171, 181, 191, 201, 211,\n",
       "                               221, 231, 241, 251, 261, 271, 281, 291, ...],\n",
       "                         'gamma': ['scale', 'auto'], 'kernel': ['linear']},\n",
       "             refit='recall_macro', scoring=('accuracy', 'recall_macro'),\n",
       "             verbose=3)"
      ]
     },
     "execution_count": 15,
     "metadata": {},
     "output_type": "execute_result"
    }
   ],
   "source": [
    "satelite_l_clf = GridSearchCV(SVC(), param_grid=satelite_parameters, scoring=('accuracy', 'recall_macro'), n_jobs = 5, verbose=3, refit='recall_macro')\n",
    "satelite_l_clf.fit(satelite_X_train, satelite_y_train)"
   ]
  },
  {
   "cell_type": "code",
   "execution_count": 16,
   "metadata": {},
   "outputs": [
    {
     "name": "stdout",
     "output_type": "stream",
     "text": [
      "{'C': 491, 'gamma': 'scale', 'kernel': 'linear'}\n",
      "0.7960178302090066\n"
     ]
    }
   ],
   "source": [
    "print(satelite_l_clf.best_params_)\n",
    "print(satelite_l_clf.best_score_)"
   ]
  },
  {
   "cell_type": "code",
   "execution_count": 17,
   "metadata": {},
   "outputs": [
    {
     "name": "stdout",
     "output_type": "stream",
     "text": [
      "Accuracy: 0.8217821782178217, Recall: 0.8222186567211951\n"
     ]
    }
   ],
   "source": [
    "satelite_lin_pred = satelite_l_clf.predict(satelite_X_test)\n",
    "satelite_lin_acc = accuracy_score(satelite_y_test,satelite_lin_pred)\n",
    "satelite_lin_rec = recall_score(satelite_y_test,satelite_lin_pred, average='macro')\n",
    "print(f'Accuracy: {satelite_lin_acc}, Recall: {satelite_lin_rec}')"
   ]
  },
  {
   "cell_type": "markdown",
   "metadata": {},
   "source": [
    "### Clasificación no lineal"
   ]
  },
  {
   "cell_type": "markdown",
   "metadata": {},
   "source": [
    "#### MNIST - SVM, kernel = Polinomial"
   ]
  },
  {
   "cell_type": "code",
   "execution_count": 24,
   "metadata": {},
   "outputs": [
    {
     "name": "stdout",
     "output_type": "stream",
     "text": [
      "C: 90, Accuracy: 0.8568, Recall: 0.8568\n"
     ]
    }
   ],
   "source": [
    "mnist_r_clf = SVC(kernel='poly', C=1, random_state=4)\n",
    "mnist_r_clf.fit(mnist_X_train, mnist_y_train)\n",
    "mnist_rbf_pred = mnist_r_clf.predict(mnist_X_test)\n",
    "mnist_rbf_acc = accuracy_score(mnist_y_test, mnist_rbf_pred)\n",
    "mnist_rbf_rec = recall_score(mnist_y_test, mnist_rbf_pred, average='weighted')\n",
    "print(f'C: {c}, Accuracy: {mnist_rbf_acc}, Recall: {mnist_rbf_rec}')"
   ]
  },
  {
   "cell_type": "markdown",
   "metadata": {},
   "source": [
    "ignorar C:90 en el output de arriba"
   ]
  },
  {
   "cell_type": "code",
   "execution_count": 25,
   "metadata": {},
   "outputs": [
    {
     "name": "stdout",
     "output_type": "stream",
     "text": [
      "C: 10, Accuracy: 0.873, Recall: 0.873\n",
      "C: 20, Accuracy: 0.8733, Recall: 0.8733\n",
      "C: 30, Accuracy: 0.8758, Recall: 0.8758\n",
      "C: 40, Accuracy: 0.876, Recall: 0.876\n",
      "C: 50, Accuracy: 0.8758, Recall: 0.8758\n",
      "C: 60, Accuracy: 0.8759, Recall: 0.8759\n",
      "C: 70, Accuracy: 0.8754, Recall: 0.8754\n",
      "C: 80, Accuracy: 0.8748, Recall: 0.8748\n",
      "C: 90, Accuracy: 0.8745, Recall: 0.8745\n"
     ]
    }
   ],
   "source": [
    "for c in [i for i in range(10,100,10)]:\n",
    "    mnist_clf = SVC(kernel='poly', C=c, random_state=4)\n",
    "    mnist_clf.fit(mnist_X_train, mnist_y_train)\n",
    "    mnist_lin_pred = mnist_clf.predict(mnist_X_test)\n",
    "    mnist_lin_acc = accuracy_score(mnist_y_test, mnist_lin_pred)\n",
    "    mnist_lin_rec = recall_score(mnist_y_test, mnist_lin_pred, average='weighted')\n",
    "    print(f'C: {c}, Accuracy: {mnist_lin_acc}, Recall: {mnist_lin_rec}')"
   ]
  },
  {
   "cell_type": "code",
   "execution_count": 26,
   "metadata": {},
   "outputs": [
    {
     "name": "stdout",
     "output_type": "stream",
     "text": [
      "Degree: 3, Accuracy: 0.876, Recall: 0.876\n",
      "Degree: 4, Accuracy: 0.8629, Recall: 0.8629\n",
      "Degree: 5, Accuracy: 0.8492, Recall: 0.8492\n",
      "Degree: 6, Accuracy: 0.8394, Recall: 0.8394\n"
     ]
    }
   ],
   "source": [
    "for d in [i for i in range(3,7)]:\n",
    "    mnist_clf = SVC(kernel='poly', C=40, degree=d, random_state=4)\n",
    "    mnist_clf.fit(mnist_X_train, mnist_y_train)\n",
    "    mnist_lin_pred = mnist_clf.predict(mnist_X_test)\n",
    "    mnist_lin_acc = accuracy_score(mnist_y_test, mnist_lin_pred)\n",
    "    mnist_lin_rec = recall_score(mnist_y_test, mnist_lin_pred, average='weighted')\n",
    "    print(f'Degree: {d}, Accuracy: {mnist_lin_acc}, Recall: {mnist_lin_rec}')"
   ]
  },
  {
   "cell_type": "markdown",
   "metadata": {},
   "source": [
    "Los parámetros finales fueron C=40 y degree=3"
   ]
  },
  {
   "cell_type": "markdown",
   "metadata": {},
   "source": [
    "#### Emojis - SVM, kernel = Radial Basis Function"
   ]
  },
  {
   "cell_type": "code",
   "execution_count": 10,
   "metadata": {},
   "outputs": [],
   "source": [
    "emoji_rbf_parameters = {'kernel':['rbf'], 'C':[i for i in range(1,20,1)], 'gamma':['scale', 'auto']}"
   ]
  },
  {
   "cell_type": "code",
   "execution_count": 11,
   "metadata": {},
   "outputs": [
    {
     "name": "stdout",
     "output_type": "stream",
     "text": [
      "Fitting 5 folds for each of 38 candidates, totalling 190 fits\n"
     ]
    },
    {
     "data": {
      "text/html": [
       "<style>#sk-container-id-1 {color: black;background-color: white;}#sk-container-id-1 pre{padding: 0;}#sk-container-id-1 div.sk-toggleable {background-color: white;}#sk-container-id-1 label.sk-toggleable__label {cursor: pointer;display: block;width: 100%;margin-bottom: 0;padding: 0.3em;box-sizing: border-box;text-align: center;}#sk-container-id-1 label.sk-toggleable__label-arrow:before {content: \"▸\";float: left;margin-right: 0.25em;color: #696969;}#sk-container-id-1 label.sk-toggleable__label-arrow:hover:before {color: black;}#sk-container-id-1 div.sk-estimator:hover label.sk-toggleable__label-arrow:before {color: black;}#sk-container-id-1 div.sk-toggleable__content {max-height: 0;max-width: 0;overflow: hidden;text-align: left;background-color: #f0f8ff;}#sk-container-id-1 div.sk-toggleable__content pre {margin: 0.2em;color: black;border-radius: 0.25em;background-color: #f0f8ff;}#sk-container-id-1 input.sk-toggleable__control:checked~div.sk-toggleable__content {max-height: 200px;max-width: 100%;overflow: auto;}#sk-container-id-1 input.sk-toggleable__control:checked~label.sk-toggleable__label-arrow:before {content: \"▾\";}#sk-container-id-1 div.sk-estimator input.sk-toggleable__control:checked~label.sk-toggleable__label {background-color: #d4ebff;}#sk-container-id-1 div.sk-label input.sk-toggleable__control:checked~label.sk-toggleable__label {background-color: #d4ebff;}#sk-container-id-1 input.sk-hidden--visually {border: 0;clip: rect(1px 1px 1px 1px);clip: rect(1px, 1px, 1px, 1px);height: 1px;margin: -1px;overflow: hidden;padding: 0;position: absolute;width: 1px;}#sk-container-id-1 div.sk-estimator {font-family: monospace;background-color: #f0f8ff;border: 1px dotted black;border-radius: 0.25em;box-sizing: border-box;margin-bottom: 0.5em;}#sk-container-id-1 div.sk-estimator:hover {background-color: #d4ebff;}#sk-container-id-1 div.sk-parallel-item::after {content: \"\";width: 100%;border-bottom: 1px solid gray;flex-grow: 1;}#sk-container-id-1 div.sk-label:hover label.sk-toggleable__label {background-color: #d4ebff;}#sk-container-id-1 div.sk-serial::before {content: \"\";position: absolute;border-left: 1px solid gray;box-sizing: border-box;top: 0;bottom: 0;left: 50%;z-index: 0;}#sk-container-id-1 div.sk-serial {display: flex;flex-direction: column;align-items: center;background-color: white;padding-right: 0.2em;padding-left: 0.2em;position: relative;}#sk-container-id-1 div.sk-item {position: relative;z-index: 1;}#sk-container-id-1 div.sk-parallel {display: flex;align-items: stretch;justify-content: center;background-color: white;position: relative;}#sk-container-id-1 div.sk-item::before, #sk-container-id-1 div.sk-parallel-item::before {content: \"\";position: absolute;border-left: 1px solid gray;box-sizing: border-box;top: 0;bottom: 0;left: 50%;z-index: -1;}#sk-container-id-1 div.sk-parallel-item {display: flex;flex-direction: column;z-index: 1;position: relative;background-color: white;}#sk-container-id-1 div.sk-parallel-item:first-child::after {align-self: flex-end;width: 50%;}#sk-container-id-1 div.sk-parallel-item:last-child::after {align-self: flex-start;width: 50%;}#sk-container-id-1 div.sk-parallel-item:only-child::after {width: 0;}#sk-container-id-1 div.sk-dashed-wrapped {border: 1px dashed gray;margin: 0 0.4em 0.5em 0.4em;box-sizing: border-box;padding-bottom: 0.4em;background-color: white;}#sk-container-id-1 div.sk-label label {font-family: monospace;font-weight: bold;display: inline-block;line-height: 1.2em;}#sk-container-id-1 div.sk-label-container {text-align: center;}#sk-container-id-1 div.sk-container {/* jupyter's `normalize.less` sets `[hidden] { display: none; }` but bootstrap.min.css set `[hidden] { display: none !important; }` so we also need the `!important` here to be able to override the default hidden behavior on the sphinx rendered scikit-learn.org. See: https://github.com/scikit-learn/scikit-learn/issues/21755 */display: inline-block !important;position: relative;}#sk-container-id-1 div.sk-text-repr-fallback {display: none;}</style><div id=\"sk-container-id-1\" class=\"sk-top-container\"><div class=\"sk-text-repr-fallback\"><pre>GridSearchCV(estimator=SVC(), n_jobs=5,\n",
       "             param_grid={&#x27;C&#x27;: [1, 2, 3, 4, 5, 6, 7, 8, 9, 10, 11, 12, 13, 14,\n",
       "                               15, 16, 17, 18, 19],\n",
       "                         &#x27;gamma&#x27;: [&#x27;scale&#x27;, &#x27;auto&#x27;], &#x27;kernel&#x27;: [&#x27;rbf&#x27;]},\n",
       "             refit=&#x27;recall_macro&#x27;, scoring=(&#x27;accuracy&#x27;, &#x27;recall_macro&#x27;),\n",
       "             verbose=3)</pre><b>In a Jupyter environment, please rerun this cell to show the HTML representation or trust the notebook. <br />On GitHub, the HTML representation is unable to render, please try loading this page with nbviewer.org.</b></div><div class=\"sk-container\" hidden><div class=\"sk-item sk-dashed-wrapped\"><div class=\"sk-label-container\"><div class=\"sk-label sk-toggleable\"><input class=\"sk-toggleable__control sk-hidden--visually\" id=\"sk-estimator-id-1\" type=\"checkbox\" ><label for=\"sk-estimator-id-1\" class=\"sk-toggleable__label sk-toggleable__label-arrow\">GridSearchCV</label><div class=\"sk-toggleable__content\"><pre>GridSearchCV(estimator=SVC(), n_jobs=5,\n",
       "             param_grid={&#x27;C&#x27;: [1, 2, 3, 4, 5, 6, 7, 8, 9, 10, 11, 12, 13, 14,\n",
       "                               15, 16, 17, 18, 19],\n",
       "                         &#x27;gamma&#x27;: [&#x27;scale&#x27;, &#x27;auto&#x27;], &#x27;kernel&#x27;: [&#x27;rbf&#x27;]},\n",
       "             refit=&#x27;recall_macro&#x27;, scoring=(&#x27;accuracy&#x27;, &#x27;recall_macro&#x27;),\n",
       "             verbose=3)</pre></div></div></div><div class=\"sk-parallel\"><div class=\"sk-parallel-item\"><div class=\"sk-item\"><div class=\"sk-label-container\"><div class=\"sk-label sk-toggleable\"><input class=\"sk-toggleable__control sk-hidden--visually\" id=\"sk-estimator-id-2\" type=\"checkbox\" ><label for=\"sk-estimator-id-2\" class=\"sk-toggleable__label sk-toggleable__label-arrow\">estimator: SVC</label><div class=\"sk-toggleable__content\"><pre>SVC()</pre></div></div></div><div class=\"sk-serial\"><div class=\"sk-item\"><div class=\"sk-estimator sk-toggleable\"><input class=\"sk-toggleable__control sk-hidden--visually\" id=\"sk-estimator-id-3\" type=\"checkbox\" ><label for=\"sk-estimator-id-3\" class=\"sk-toggleable__label sk-toggleable__label-arrow\">SVC</label><div class=\"sk-toggleable__content\"><pre>SVC()</pre></div></div></div></div></div></div></div></div></div></div>"
      ],
      "text/plain": [
       "GridSearchCV(estimator=SVC(), n_jobs=5,\n",
       "             param_grid={'C': [1, 2, 3, 4, 5, 6, 7, 8, 9, 10, 11, 12, 13, 14,\n",
       "                               15, 16, 17, 18, 19],\n",
       "                         'gamma': ['scale', 'auto'], 'kernel': ['rbf']},\n",
       "             refit='recall_macro', scoring=('accuracy', 'recall_macro'),\n",
       "             verbose=3)"
      ]
     },
     "execution_count": 11,
     "metadata": {},
     "output_type": "execute_result"
    }
   ],
   "source": [
    "emoji_r_clf = GridSearchCV(SVC(), param_grid=emoji_rbf_parameters, scoring=('accuracy', 'recall_macro'), n_jobs = 5, verbose=3, refit='recall_macro')\n",
    "emoji_r_clf.fit(emoji_X_train, emoji_y_train)"
   ]
  },
  {
   "cell_type": "code",
   "execution_count": 12,
   "metadata": {},
   "outputs": [
    {
     "name": "stdout",
     "output_type": "stream",
     "text": [
      "{'C': 4, 'gamma': 'scale', 'kernel': 'rbf'}\n",
      "0.8273890002776392\n"
     ]
    }
   ],
   "source": [
    "print(emoji_r_clf.best_params_)\n",
    "print(emoji_r_clf.best_score_)"
   ]
  },
  {
   "cell_type": "code",
   "execution_count": 13,
   "metadata": {},
   "outputs": [
    {
     "name": "stdout",
     "output_type": "stream",
     "text": [
      "Accuracy: 0.8592233009708737, Recall: 0.8631030409362553\n"
     ]
    }
   ],
   "source": [
    "emoji_rbf_pred = emoji_r_clf.predict(emoji_X_test)\n",
    "emoji_rbf_acc = accuracy_score(emoji_y_test,emoji_rbf_pred)\n",
    "emoji_rbf_rec = recall_score(emoji_y_test,emoji_rbf_pred, average='macro')\n",
    "print(f'Accuracy: {emoji_rbf_acc}, Recall: {emoji_rbf_rec}')"
   ]
  },
  {
   "cell_type": "markdown",
   "metadata": {},
   "source": [
    "#### Satelitales - SVM, kernel= Radial Basis Function"
   ]
  },
  {
   "cell_type": "code",
   "execution_count": 26,
   "metadata": {},
   "outputs": [],
   "source": [
    "satelite_rbf_parameters = {'kernel':['rbf'], 'C':[i for i in range(1,200,10)], 'gamma':['scale', 'auto']}"
   ]
  },
  {
   "cell_type": "code",
   "execution_count": 27,
   "metadata": {},
   "outputs": [
    {
     "name": "stdout",
     "output_type": "stream",
     "text": [
      "Fitting 5 folds for each of 40 candidates, totalling 200 fits\n"
     ]
    },
    {
     "data": {
      "text/html": [
       "<style>#sk-container-id-5 {color: black;background-color: white;}#sk-container-id-5 pre{padding: 0;}#sk-container-id-5 div.sk-toggleable {background-color: white;}#sk-container-id-5 label.sk-toggleable__label {cursor: pointer;display: block;width: 100%;margin-bottom: 0;padding: 0.3em;box-sizing: border-box;text-align: center;}#sk-container-id-5 label.sk-toggleable__label-arrow:before {content: \"▸\";float: left;margin-right: 0.25em;color: #696969;}#sk-container-id-5 label.sk-toggleable__label-arrow:hover:before {color: black;}#sk-container-id-5 div.sk-estimator:hover label.sk-toggleable__label-arrow:before {color: black;}#sk-container-id-5 div.sk-toggleable__content {max-height: 0;max-width: 0;overflow: hidden;text-align: left;background-color: #f0f8ff;}#sk-container-id-5 div.sk-toggleable__content pre {margin: 0.2em;color: black;border-radius: 0.25em;background-color: #f0f8ff;}#sk-container-id-5 input.sk-toggleable__control:checked~div.sk-toggleable__content {max-height: 200px;max-width: 100%;overflow: auto;}#sk-container-id-5 input.sk-toggleable__control:checked~label.sk-toggleable__label-arrow:before {content: \"▾\";}#sk-container-id-5 div.sk-estimator input.sk-toggleable__control:checked~label.sk-toggleable__label {background-color: #d4ebff;}#sk-container-id-5 div.sk-label input.sk-toggleable__control:checked~label.sk-toggleable__label {background-color: #d4ebff;}#sk-container-id-5 input.sk-hidden--visually {border: 0;clip: rect(1px 1px 1px 1px);clip: rect(1px, 1px, 1px, 1px);height: 1px;margin: -1px;overflow: hidden;padding: 0;position: absolute;width: 1px;}#sk-container-id-5 div.sk-estimator {font-family: monospace;background-color: #f0f8ff;border: 1px dotted black;border-radius: 0.25em;box-sizing: border-box;margin-bottom: 0.5em;}#sk-container-id-5 div.sk-estimator:hover {background-color: #d4ebff;}#sk-container-id-5 div.sk-parallel-item::after {content: \"\";width: 100%;border-bottom: 1px solid gray;flex-grow: 1;}#sk-container-id-5 div.sk-label:hover label.sk-toggleable__label {background-color: #d4ebff;}#sk-container-id-5 div.sk-serial::before {content: \"\";position: absolute;border-left: 1px solid gray;box-sizing: border-box;top: 0;bottom: 0;left: 50%;z-index: 0;}#sk-container-id-5 div.sk-serial {display: flex;flex-direction: column;align-items: center;background-color: white;padding-right: 0.2em;padding-left: 0.2em;position: relative;}#sk-container-id-5 div.sk-item {position: relative;z-index: 1;}#sk-container-id-5 div.sk-parallel {display: flex;align-items: stretch;justify-content: center;background-color: white;position: relative;}#sk-container-id-5 div.sk-item::before, #sk-container-id-5 div.sk-parallel-item::before {content: \"\";position: absolute;border-left: 1px solid gray;box-sizing: border-box;top: 0;bottom: 0;left: 50%;z-index: -1;}#sk-container-id-5 div.sk-parallel-item {display: flex;flex-direction: column;z-index: 1;position: relative;background-color: white;}#sk-container-id-5 div.sk-parallel-item:first-child::after {align-self: flex-end;width: 50%;}#sk-container-id-5 div.sk-parallel-item:last-child::after {align-self: flex-start;width: 50%;}#sk-container-id-5 div.sk-parallel-item:only-child::after {width: 0;}#sk-container-id-5 div.sk-dashed-wrapped {border: 1px dashed gray;margin: 0 0.4em 0.5em 0.4em;box-sizing: border-box;padding-bottom: 0.4em;background-color: white;}#sk-container-id-5 div.sk-label label {font-family: monospace;font-weight: bold;display: inline-block;line-height: 1.2em;}#sk-container-id-5 div.sk-label-container {text-align: center;}#sk-container-id-5 div.sk-container {/* jupyter's `normalize.less` sets `[hidden] { display: none; }` but bootstrap.min.css set `[hidden] { display: none !important; }` so we also need the `!important` here to be able to override the default hidden behavior on the sphinx rendered scikit-learn.org. See: https://github.com/scikit-learn/scikit-learn/issues/21755 */display: inline-block !important;position: relative;}#sk-container-id-5 div.sk-text-repr-fallback {display: none;}</style><div id=\"sk-container-id-5\" class=\"sk-top-container\"><div class=\"sk-text-repr-fallback\"><pre>GridSearchCV(estimator=SVC(), n_jobs=5,\n",
       "             param_grid={&#x27;C&#x27;: [1, 11, 21, 31, 41, 51, 61, 71, 81, 91, 101, 111,\n",
       "                               121, 131, 141, 151, 161, 171, 181, 191],\n",
       "                         &#x27;gamma&#x27;: [&#x27;scale&#x27;, &#x27;auto&#x27;], &#x27;kernel&#x27;: [&#x27;rbf&#x27;]},\n",
       "             refit=&#x27;recall_macro&#x27;, scoring=(&#x27;accuracy&#x27;, &#x27;recall_macro&#x27;),\n",
       "             verbose=3)</pre><b>In a Jupyter environment, please rerun this cell to show the HTML representation or trust the notebook. <br />On GitHub, the HTML representation is unable to render, please try loading this page with nbviewer.org.</b></div><div class=\"sk-container\" hidden><div class=\"sk-item sk-dashed-wrapped\"><div class=\"sk-label-container\"><div class=\"sk-label sk-toggleable\"><input class=\"sk-toggleable__control sk-hidden--visually\" id=\"sk-estimator-id-13\" type=\"checkbox\" ><label for=\"sk-estimator-id-13\" class=\"sk-toggleable__label sk-toggleable__label-arrow\">GridSearchCV</label><div class=\"sk-toggleable__content\"><pre>GridSearchCV(estimator=SVC(), n_jobs=5,\n",
       "             param_grid={&#x27;C&#x27;: [1, 11, 21, 31, 41, 51, 61, 71, 81, 91, 101, 111,\n",
       "                               121, 131, 141, 151, 161, 171, 181, 191],\n",
       "                         &#x27;gamma&#x27;: [&#x27;scale&#x27;, &#x27;auto&#x27;], &#x27;kernel&#x27;: [&#x27;rbf&#x27;]},\n",
       "             refit=&#x27;recall_macro&#x27;, scoring=(&#x27;accuracy&#x27;, &#x27;recall_macro&#x27;),\n",
       "             verbose=3)</pre></div></div></div><div class=\"sk-parallel\"><div class=\"sk-parallel-item\"><div class=\"sk-item\"><div class=\"sk-label-container\"><div class=\"sk-label sk-toggleable\"><input class=\"sk-toggleable__control sk-hidden--visually\" id=\"sk-estimator-id-14\" type=\"checkbox\" ><label for=\"sk-estimator-id-14\" class=\"sk-toggleable__label sk-toggleable__label-arrow\">estimator: SVC</label><div class=\"sk-toggleable__content\"><pre>SVC()</pre></div></div></div><div class=\"sk-serial\"><div class=\"sk-item\"><div class=\"sk-estimator sk-toggleable\"><input class=\"sk-toggleable__control sk-hidden--visually\" id=\"sk-estimator-id-15\" type=\"checkbox\" ><label for=\"sk-estimator-id-15\" class=\"sk-toggleable__label sk-toggleable__label-arrow\">SVC</label><div class=\"sk-toggleable__content\"><pre>SVC()</pre></div></div></div></div></div></div></div></div></div></div>"
      ],
      "text/plain": [
       "GridSearchCV(estimator=SVC(), n_jobs=5,\n",
       "             param_grid={'C': [1, 11, 21, 31, 41, 51, 61, 71, 81, 91, 101, 111,\n",
       "                               121, 131, 141, 151, 161, 171, 181, 191],\n",
       "                         'gamma': ['scale', 'auto'], 'kernel': ['rbf']},\n",
       "             refit='recall_macro', scoring=('accuracy', 'recall_macro'),\n",
       "             verbose=3)"
      ]
     },
     "execution_count": 27,
     "metadata": {},
     "output_type": "execute_result"
    }
   ],
   "source": [
    "satelite_rbf_clf = GridSearchCV(SVC(), param_grid=satelite_rbf_parameters, scoring=('accuracy', 'recall_macro'), n_jobs = 5, verbose=3, refit='recall_macro')\n",
    "satelite_rbf_clf.fit(satelite_X_train, satelite_y_train)"
   ]
  },
  {
   "cell_type": "code",
   "execution_count": 28,
   "metadata": {},
   "outputs": [
    {
     "name": "stdout",
     "output_type": "stream",
     "text": [
      "{'C': 31, 'gamma': 'scale', 'kernel': 'rbf'}\n",
      "0.8495873067175588\n"
     ]
    }
   ],
   "source": [
    "print(satelite_rbf_clf.best_params_)\n",
    "print(satelite_rbf_clf.best_score_)"
   ]
  },
  {
   "cell_type": "code",
   "execution_count": 29,
   "metadata": {},
   "outputs": [
    {
     "name": "stdout",
     "output_type": "stream",
     "text": [
      "Accuracy: 0.8356435643564356, Recall: 0.8352752895951082\n"
     ]
    }
   ],
   "source": [
    "satelite_rbf_pred = satelite_rbf_clf.predict(satelite_X_test)\n",
    "satelite_rbf_acc = accuracy_score(satelite_y_test,satelite_rbf_pred)\n",
    "satelite_rbf_rec = recall_score(satelite_y_test,satelite_rbf_pred, average='macro')\n",
    "print(f'Accuracy: {satelite_rbf_acc}, Recall: {satelite_rbf_rec}')"
   ]
  },
  {
   "cell_type": "markdown",
   "metadata": {},
   "source": [
    "## Perceptron multicapa"
   ]
  },
  {
   "cell_type": "code",
   "execution_count": 20,
   "metadata": {},
   "outputs": [],
   "source": [
    "from sklearn.neural_network import MLPClassifier"
   ]
  },
  {
   "cell_type": "markdown",
   "metadata": {},
   "source": [
    "### MNIST"
   ]
  },
  {
   "cell_type": "code",
   "execution_count": 35,
   "metadata": {},
   "outputs": [
    {
     "name": "stderr",
     "output_type": "stream",
     "text": [
      "C:\\Users\\Alan\\AppData\\Roaming\\Python\\Python39\\site-packages\\sklearn\\neural_network\\_multilayer_perceptron.py:702: ConvergenceWarning: Stochastic Optimizer: Maximum iterations (200) reached and the optimization hasn't converged yet.\n",
      "  warnings.warn(\n"
     ]
    },
    {
     "name": "stdout",
     "output_type": "stream",
     "text": [
      "Neuronas: 20, n_capas: 1, accuracy: 0.81, recall: 0.81\n"
     ]
    },
    {
     "name": "stderr",
     "output_type": "stream",
     "text": [
      "C:\\Users\\Alan\\AppData\\Roaming\\Python\\Python39\\site-packages\\sklearn\\neural_network\\_multilayer_perceptron.py:702: ConvergenceWarning: Stochastic Optimizer: Maximum iterations (200) reached and the optimization hasn't converged yet.\n",
      "  warnings.warn(\n"
     ]
    },
    {
     "name": "stdout",
     "output_type": "stream",
     "text": [
      "Neuronas: 40, n_capas: 1, accuracy: 0.8349, recall: 0.8349\n"
     ]
    },
    {
     "name": "stderr",
     "output_type": "stream",
     "text": [
      "C:\\Users\\Alan\\AppData\\Roaming\\Python\\Python39\\site-packages\\sklearn\\neural_network\\_multilayer_perceptron.py:702: ConvergenceWarning: Stochastic Optimizer: Maximum iterations (200) reached and the optimization hasn't converged yet.\n",
      "  warnings.warn(\n"
     ]
    },
    {
     "name": "stdout",
     "output_type": "stream",
     "text": [
      "Neuronas: 60, n_capas: 1, accuracy: 0.8375, recall: 0.8375\n"
     ]
    },
    {
     "name": "stderr",
     "output_type": "stream",
     "text": [
      "C:\\Users\\Alan\\AppData\\Roaming\\Python\\Python39\\site-packages\\sklearn\\neural_network\\_multilayer_perceptron.py:702: ConvergenceWarning: Stochastic Optimizer: Maximum iterations (200) reached and the optimization hasn't converged yet.\n",
      "  warnings.warn(\n"
     ]
    },
    {
     "name": "stdout",
     "output_type": "stream",
     "text": [
      "Neuronas: 80, n_capas: 1, accuracy: 0.8409, recall: 0.8409\n"
     ]
    },
    {
     "name": "stderr",
     "output_type": "stream",
     "text": [
      "C:\\Users\\Alan\\AppData\\Roaming\\Python\\Python39\\site-packages\\sklearn\\neural_network\\_multilayer_perceptron.py:702: ConvergenceWarning: Stochastic Optimizer: Maximum iterations (200) reached and the optimization hasn't converged yet.\n",
      "  warnings.warn(\n"
     ]
    },
    {
     "name": "stdout",
     "output_type": "stream",
     "text": [
      "Neuronas: 100, n_capas: 1, accuracy: 0.8494, recall: 0.8494\n",
      "Neuronas: 20, n_capas: 21, accuracy: 0.6696, recall: 0.6696\n",
      "Neuronas: 40, n_capas: 21, accuracy: 0.7809, recall: 0.7809\n",
      "Neuronas: 60, n_capas: 21, accuracy: 0.8376, recall: 0.8376\n",
      "Neuronas: 80, n_capas: 21, accuracy: 0.7753, recall: 0.7753\n",
      "Neuronas: 100, n_capas: 21, accuracy: 0.814, recall: 0.814\n",
      "Neuronas: 20, n_capas: 41, accuracy: 0.1, recall: 0.1\n",
      "Neuronas: 40, n_capas: 41, accuracy: 0.1, recall: 0.1\n",
      "Neuronas: 60, n_capas: 41, accuracy: 0.1, recall: 0.1\n",
      "Neuronas: 80, n_capas: 41, accuracy: 0.1, recall: 0.1\n",
      "Neuronas: 100, n_capas: 41, accuracy: 0.1, recall: 0.1\n",
      "Neuronas: 20, n_capas: 61, accuracy: 0.1, recall: 0.1\n",
      "Neuronas: 40, n_capas: 61, accuracy: 0.1, recall: 0.1\n",
      "Neuronas: 60, n_capas: 61, accuracy: 0.1, recall: 0.1\n",
      "Neuronas: 80, n_capas: 61, accuracy: 0.1, recall: 0.1\n",
      "Neuronas: 100, n_capas: 61, accuracy: 0.1, recall: 0.1\n",
      "Neuronas: 20, n_capas: 81, accuracy: 0.1, recall: 0.1\n",
      "Neuronas: 40, n_capas: 81, accuracy: 0.1, recall: 0.1\n",
      "Neuronas: 60, n_capas: 81, accuracy: 0.1, recall: 0.1\n",
      "Neuronas: 80, n_capas: 81, accuracy: 0.1, recall: 0.1\n",
      "Neuronas: 100, n_capas: 81, accuracy: 0.1, recall: 0.1\n"
     ]
    }
   ],
   "source": [
    "for capas in [[neur for j in range(n_caps)] for n_caps in range(1,100,20) for neur in range(20,120,20)]:\n",
    "    mnist_p_clf = MLPClassifier(hidden_layer_sizes=capas)\n",
    "    mnist_p_clf.fit(mnist_X_train, mnist_y_train)\n",
    "    mnist_perc_pred = mnist_p_clf.predict(mnist_X_test)\n",
    "    mnist_perc_acc = accuracy_score(mnist_y_test, mnist_perc_pred)\n",
    "    mnist_perc_rec = recall_score(mnist_y_test, mnist_perc_pred, average='weighted')\n",
    "    print(f'Neuronas: {capas[0]}, n_capas: {len(capas)}, accuracy: {mnist_perc_acc}, recall: {mnist_perc_rec}')"
   ]
  },
  {
   "cell_type": "markdown",
   "metadata": {},
   "source": [
    "Mejor resultado, 100 neuronas, 1 capa, Accuracy=0.8494, Recall=0.8494"
   ]
  },
  {
   "cell_type": "markdown",
   "metadata": {},
   "source": [
    "### Emojis"
   ]
  },
  {
   "cell_type": "code",
   "execution_count": 29,
   "metadata": {},
   "outputs": [],
   "source": [
    "emoji_perc_params = {'hidden_layer_sizes': [[neur for j in range(n_caps)] for n_caps in range(1,100,5) for neur in range(20,110,10)]}"
   ]
  },
  {
   "cell_type": "code",
   "execution_count": 30,
   "metadata": {},
   "outputs": [
    {
     "name": "stdout",
     "output_type": "stream",
     "text": [
      "Fitting 5 folds for each of 180 candidates, totalling 900 fits\n"
     ]
    },
    {
     "name": "stderr",
     "output_type": "stream",
     "text": [
      "C:\\Users\\Alan\\AppData\\Roaming\\Python\\Python39\\site-packages\\sklearn\\neural_network\\_multilayer_perceptron.py:702: ConvergenceWarning: Stochastic Optimizer: Maximum iterations (200) reached and the optimization hasn't converged yet.\n",
      "  warnings.warn(\n"
     ]
    },
    {
     "data": {
      "text/html": [
       "<style>#sk-container-id-2 {color: black;background-color: white;}#sk-container-id-2 pre{padding: 0;}#sk-container-id-2 div.sk-toggleable {background-color: white;}#sk-container-id-2 label.sk-toggleable__label {cursor: pointer;display: block;width: 100%;margin-bottom: 0;padding: 0.3em;box-sizing: border-box;text-align: center;}#sk-container-id-2 label.sk-toggleable__label-arrow:before {content: \"▸\";float: left;margin-right: 0.25em;color: #696969;}#sk-container-id-2 label.sk-toggleable__label-arrow:hover:before {color: black;}#sk-container-id-2 div.sk-estimator:hover label.sk-toggleable__label-arrow:before {color: black;}#sk-container-id-2 div.sk-toggleable__content {max-height: 0;max-width: 0;overflow: hidden;text-align: left;background-color: #f0f8ff;}#sk-container-id-2 div.sk-toggleable__content pre {margin: 0.2em;color: black;border-radius: 0.25em;background-color: #f0f8ff;}#sk-container-id-2 input.sk-toggleable__control:checked~div.sk-toggleable__content {max-height: 200px;max-width: 100%;overflow: auto;}#sk-container-id-2 input.sk-toggleable__control:checked~label.sk-toggleable__label-arrow:before {content: \"▾\";}#sk-container-id-2 div.sk-estimator input.sk-toggleable__control:checked~label.sk-toggleable__label {background-color: #d4ebff;}#sk-container-id-2 div.sk-label input.sk-toggleable__control:checked~label.sk-toggleable__label {background-color: #d4ebff;}#sk-container-id-2 input.sk-hidden--visually {border: 0;clip: rect(1px 1px 1px 1px);clip: rect(1px, 1px, 1px, 1px);height: 1px;margin: -1px;overflow: hidden;padding: 0;position: absolute;width: 1px;}#sk-container-id-2 div.sk-estimator {font-family: monospace;background-color: #f0f8ff;border: 1px dotted black;border-radius: 0.25em;box-sizing: border-box;margin-bottom: 0.5em;}#sk-container-id-2 div.sk-estimator:hover {background-color: #d4ebff;}#sk-container-id-2 div.sk-parallel-item::after {content: \"\";width: 100%;border-bottom: 1px solid gray;flex-grow: 1;}#sk-container-id-2 div.sk-label:hover label.sk-toggleable__label {background-color: #d4ebff;}#sk-container-id-2 div.sk-serial::before {content: \"\";position: absolute;border-left: 1px solid gray;box-sizing: border-box;top: 0;bottom: 0;left: 50%;z-index: 0;}#sk-container-id-2 div.sk-serial {display: flex;flex-direction: column;align-items: center;background-color: white;padding-right: 0.2em;padding-left: 0.2em;position: relative;}#sk-container-id-2 div.sk-item {position: relative;z-index: 1;}#sk-container-id-2 div.sk-parallel {display: flex;align-items: stretch;justify-content: center;background-color: white;position: relative;}#sk-container-id-2 div.sk-item::before, #sk-container-id-2 div.sk-parallel-item::before {content: \"\";position: absolute;border-left: 1px solid gray;box-sizing: border-box;top: 0;bottom: 0;left: 50%;z-index: -1;}#sk-container-id-2 div.sk-parallel-item {display: flex;flex-direction: column;z-index: 1;position: relative;background-color: white;}#sk-container-id-2 div.sk-parallel-item:first-child::after {align-self: flex-end;width: 50%;}#sk-container-id-2 div.sk-parallel-item:last-child::after {align-self: flex-start;width: 50%;}#sk-container-id-2 div.sk-parallel-item:only-child::after {width: 0;}#sk-container-id-2 div.sk-dashed-wrapped {border: 1px dashed gray;margin: 0 0.4em 0.5em 0.4em;box-sizing: border-box;padding-bottom: 0.4em;background-color: white;}#sk-container-id-2 div.sk-label label {font-family: monospace;font-weight: bold;display: inline-block;line-height: 1.2em;}#sk-container-id-2 div.sk-label-container {text-align: center;}#sk-container-id-2 div.sk-container {/* jupyter's `normalize.less` sets `[hidden] { display: none; }` but bootstrap.min.css set `[hidden] { display: none !important; }` so we also need the `!important` here to be able to override the default hidden behavior on the sphinx rendered scikit-learn.org. See: https://github.com/scikit-learn/scikit-learn/issues/21755 */display: inline-block !important;position: relative;}#sk-container-id-2 div.sk-text-repr-fallback {display: none;}</style><div id=\"sk-container-id-2\" class=\"sk-top-container\"><div class=\"sk-text-repr-fallback\"><pre>GridSearchCV(estimator=MLPClassifier(random_state=4), n_jobs=5,\n",
       "             param_grid={&#x27;hidden_layer_sizes&#x27;: [[20], [30], [40], [50], [60],\n",
       "                                                [70], [80], [90], [100],\n",
       "                                                [20, 20, 20, 20, 20, 20],\n",
       "                                                [30, 30, 30, 30, 30, 30],\n",
       "                                                [40, 40, 40, 40, 40, 40],\n",
       "                                                [50, 50, 50, 50, 50, 50],\n",
       "                                                [60, 60, 60, 60, 60, 60],\n",
       "                                                [70, 70, 70, 70, 70, 70],\n",
       "                                                [80, 80, 80, 80, 80, 80],\n",
       "                                                [90, 90, 90, 90, 90, 90],\n",
       "                                                [100, 100, 100, 100, 100, 100],\n",
       "                                                [20, 20, 20, 20, 20, 20, 20,...\n",
       "                                                [70, 70, 70, 70, 70, 70, 70, 70,\n",
       "                                                 70, 70, 70],\n",
       "                                                [80, 80, 80, 80, 80, 80, 80, 80,\n",
       "                                                 80, 80, 80],\n",
       "                                                [90, 90, 90, 90, 90, 90, 90, 90,\n",
       "                                                 90, 90, 90],\n",
       "                                                [100, 100, 100, 100, 100, 100,\n",
       "                                                 100, 100, 100, 100, 100],\n",
       "                                                [20, 20, 20, 20, 20, 20, 20, 20,\n",
       "                                                 20, 20, 20, 20, 20, 20, 20,\n",
       "                                                 20],\n",
       "                                                [30, 30, 30, 30, 30, 30, 30, 30,\n",
       "                                                 30, 30, 30, 30, 30, 30, 30,\n",
       "                                                 30],\n",
       "                                                [40, 40, 40, 40, 40, 40, 40, 40,\n",
       "                                                 40, 40, 40, 40, 40, 40, 40,\n",
       "                                                 40], ...]},\n",
       "             refit=&#x27;recall_macro&#x27;, scoring=(&#x27;accuracy&#x27;, &#x27;recall_macro&#x27;),\n",
       "             verbose=3)</pre><b>In a Jupyter environment, please rerun this cell to show the HTML representation or trust the notebook. <br />On GitHub, the HTML representation is unable to render, please try loading this page with nbviewer.org.</b></div><div class=\"sk-container\" hidden><div class=\"sk-item sk-dashed-wrapped\"><div class=\"sk-label-container\"><div class=\"sk-label sk-toggleable\"><input class=\"sk-toggleable__control sk-hidden--visually\" id=\"sk-estimator-id-4\" type=\"checkbox\" ><label for=\"sk-estimator-id-4\" class=\"sk-toggleable__label sk-toggleable__label-arrow\">GridSearchCV</label><div class=\"sk-toggleable__content\"><pre>GridSearchCV(estimator=MLPClassifier(random_state=4), n_jobs=5,\n",
       "             param_grid={&#x27;hidden_layer_sizes&#x27;: [[20], [30], [40], [50], [60],\n",
       "                                                [70], [80], [90], [100],\n",
       "                                                [20, 20, 20, 20, 20, 20],\n",
       "                                                [30, 30, 30, 30, 30, 30],\n",
       "                                                [40, 40, 40, 40, 40, 40],\n",
       "                                                [50, 50, 50, 50, 50, 50],\n",
       "                                                [60, 60, 60, 60, 60, 60],\n",
       "                                                [70, 70, 70, 70, 70, 70],\n",
       "                                                [80, 80, 80, 80, 80, 80],\n",
       "                                                [90, 90, 90, 90, 90, 90],\n",
       "                                                [100, 100, 100, 100, 100, 100],\n",
       "                                                [20, 20, 20, 20, 20, 20, 20,...\n",
       "                                                [70, 70, 70, 70, 70, 70, 70, 70,\n",
       "                                                 70, 70, 70],\n",
       "                                                [80, 80, 80, 80, 80, 80, 80, 80,\n",
       "                                                 80, 80, 80],\n",
       "                                                [90, 90, 90, 90, 90, 90, 90, 90,\n",
       "                                                 90, 90, 90],\n",
       "                                                [100, 100, 100, 100, 100, 100,\n",
       "                                                 100, 100, 100, 100, 100],\n",
       "                                                [20, 20, 20, 20, 20, 20, 20, 20,\n",
       "                                                 20, 20, 20, 20, 20, 20, 20,\n",
       "                                                 20],\n",
       "                                                [30, 30, 30, 30, 30, 30, 30, 30,\n",
       "                                                 30, 30, 30, 30, 30, 30, 30,\n",
       "                                                 30],\n",
       "                                                [40, 40, 40, 40, 40, 40, 40, 40,\n",
       "                                                 40, 40, 40, 40, 40, 40, 40,\n",
       "                                                 40], ...]},\n",
       "             refit=&#x27;recall_macro&#x27;, scoring=(&#x27;accuracy&#x27;, &#x27;recall_macro&#x27;),\n",
       "             verbose=3)</pre></div></div></div><div class=\"sk-parallel\"><div class=\"sk-parallel-item\"><div class=\"sk-item\"><div class=\"sk-label-container\"><div class=\"sk-label sk-toggleable\"><input class=\"sk-toggleable__control sk-hidden--visually\" id=\"sk-estimator-id-5\" type=\"checkbox\" ><label for=\"sk-estimator-id-5\" class=\"sk-toggleable__label sk-toggleable__label-arrow\">estimator: MLPClassifier</label><div class=\"sk-toggleable__content\"><pre>MLPClassifier(random_state=4)</pre></div></div></div><div class=\"sk-serial\"><div class=\"sk-item\"><div class=\"sk-estimator sk-toggleable\"><input class=\"sk-toggleable__control sk-hidden--visually\" id=\"sk-estimator-id-6\" type=\"checkbox\" ><label for=\"sk-estimator-id-6\" class=\"sk-toggleable__label sk-toggleable__label-arrow\">MLPClassifier</label><div class=\"sk-toggleable__content\"><pre>MLPClassifier(random_state=4)</pre></div></div></div></div></div></div></div></div></div></div>"
      ],
      "text/plain": [
       "GridSearchCV(estimator=MLPClassifier(random_state=4), n_jobs=5,\n",
       "             param_grid={'hidden_layer_sizes': [[20], [30], [40], [50], [60],\n",
       "                                                [70], [80], [90], [100],\n",
       "                                                [20, 20, 20, 20, 20, 20],\n",
       "                                                [30, 30, 30, 30, 30, 30],\n",
       "                                                [40, 40, 40, 40, 40, 40],\n",
       "                                                [50, 50, 50, 50, 50, 50],\n",
       "                                                [60, 60, 60, 60, 60, 60],\n",
       "                                                [70, 70, 70, 70, 70, 70],\n",
       "                                                [80, 80, 80, 80, 80, 80],\n",
       "                                                [90, 90, 90, 90, 90, 90],\n",
       "                                                [100, 100, 100, 100, 100, 100],\n",
       "                                                [20, 20, 20, 20, 20, 20, 20,...\n",
       "                                                [70, 70, 70, 70, 70, 70, 70, 70,\n",
       "                                                 70, 70, 70],\n",
       "                                                [80, 80, 80, 80, 80, 80, 80, 80,\n",
       "                                                 80, 80, 80],\n",
       "                                                [90, 90, 90, 90, 90, 90, 90, 90,\n",
       "                                                 90, 90, 90],\n",
       "                                                [100, 100, 100, 100, 100, 100,\n",
       "                                                 100, 100, 100, 100, 100],\n",
       "                                                [20, 20, 20, 20, 20, 20, 20, 20,\n",
       "                                                 20, 20, 20, 20, 20, 20, 20,\n",
       "                                                 20],\n",
       "                                                [30, 30, 30, 30, 30, 30, 30, 30,\n",
       "                                                 30, 30, 30, 30, 30, 30, 30,\n",
       "                                                 30],\n",
       "                                                [40, 40, 40, 40, 40, 40, 40, 40,\n",
       "                                                 40, 40, 40, 40, 40, 40, 40,\n",
       "                                                 40], ...]},\n",
       "             refit='recall_macro', scoring=('accuracy', 'recall_macro'),\n",
       "             verbose=3)"
      ]
     },
     "execution_count": 30,
     "metadata": {},
     "output_type": "execute_result"
    }
   ],
   "source": [
    "emoji_p_clf = GridSearchCV(MLPClassifier(random_state=4), param_grid=emoji_perc_params, scoring=('accuracy', 'recall_macro'), n_jobs = 5, verbose=3, refit='recall_macro')\n",
    "emoji_p_clf.fit(emoji_X_train, emoji_y_train)"
   ]
  },
  {
   "cell_type": "code",
   "execution_count": 31,
   "metadata": {},
   "outputs": [
    {
     "name": "stdout",
     "output_type": "stream",
     "text": [
      "{'hidden_layer_sizes': [20]}\n",
      "0.7826041863529085\n"
     ]
    }
   ],
   "source": [
    "print(emoji_p_clf.best_params_)\n",
    "print(emoji_p_clf.best_score_)"
   ]
  },
  {
   "cell_type": "code",
   "execution_count": 32,
   "metadata": {},
   "outputs": [
    {
     "name": "stdout",
     "output_type": "stream",
     "text": [
      "Accuracy: 0.813915857605178, Recall: 0.8161913282725827\n"
     ]
    }
   ],
   "source": [
    "emoji_perc_pred = emoji_p_clf.predict(emoji_X_test)\n",
    "emoji_perc_acc = accuracy_score(emoji_y_test,emoji_perc_pred)\n",
    "emoji_perc_rec = recall_score(emoji_y_test,emoji_perc_pred, average='macro')\n",
    "print(f'Accuracy: {emoji_perc_acc}, Recall: {emoji_perc_rec}')"
   ]
  },
  {
   "cell_type": "markdown",
   "metadata": {},
   "source": [
    "### Satelitales"
   ]
  },
  {
   "cell_type": "code",
   "execution_count": 18,
   "metadata": {},
   "outputs": [],
   "source": [
    "satelite_perc_params = {'hidden_layer_sizes': [[neur for j in range(n_caps)] for n_caps in range(5,20,1) for neur in range(80,160,20)]}"
   ]
  },
  {
   "cell_type": "code",
   "execution_count": 21,
   "metadata": {},
   "outputs": [
    {
     "name": "stdout",
     "output_type": "stream",
     "text": [
      "Fitting 5 folds for each of 60 candidates, totalling 300 fits\n"
     ]
    },
    {
     "data": {
      "text/html": [
       "<style>#sk-container-id-3 {color: black;background-color: white;}#sk-container-id-3 pre{padding: 0;}#sk-container-id-3 div.sk-toggleable {background-color: white;}#sk-container-id-3 label.sk-toggleable__label {cursor: pointer;display: block;width: 100%;margin-bottom: 0;padding: 0.3em;box-sizing: border-box;text-align: center;}#sk-container-id-3 label.sk-toggleable__label-arrow:before {content: \"▸\";float: left;margin-right: 0.25em;color: #696969;}#sk-container-id-3 label.sk-toggleable__label-arrow:hover:before {color: black;}#sk-container-id-3 div.sk-estimator:hover label.sk-toggleable__label-arrow:before {color: black;}#sk-container-id-3 div.sk-toggleable__content {max-height: 0;max-width: 0;overflow: hidden;text-align: left;background-color: #f0f8ff;}#sk-container-id-3 div.sk-toggleable__content pre {margin: 0.2em;color: black;border-radius: 0.25em;background-color: #f0f8ff;}#sk-container-id-3 input.sk-toggleable__control:checked~div.sk-toggleable__content {max-height: 200px;max-width: 100%;overflow: auto;}#sk-container-id-3 input.sk-toggleable__control:checked~label.sk-toggleable__label-arrow:before {content: \"▾\";}#sk-container-id-3 div.sk-estimator input.sk-toggleable__control:checked~label.sk-toggleable__label {background-color: #d4ebff;}#sk-container-id-3 div.sk-label input.sk-toggleable__control:checked~label.sk-toggleable__label {background-color: #d4ebff;}#sk-container-id-3 input.sk-hidden--visually {border: 0;clip: rect(1px 1px 1px 1px);clip: rect(1px, 1px, 1px, 1px);height: 1px;margin: -1px;overflow: hidden;padding: 0;position: absolute;width: 1px;}#sk-container-id-3 div.sk-estimator {font-family: monospace;background-color: #f0f8ff;border: 1px dotted black;border-radius: 0.25em;box-sizing: border-box;margin-bottom: 0.5em;}#sk-container-id-3 div.sk-estimator:hover {background-color: #d4ebff;}#sk-container-id-3 div.sk-parallel-item::after {content: \"\";width: 100%;border-bottom: 1px solid gray;flex-grow: 1;}#sk-container-id-3 div.sk-label:hover label.sk-toggleable__label {background-color: #d4ebff;}#sk-container-id-3 div.sk-serial::before {content: \"\";position: absolute;border-left: 1px solid gray;box-sizing: border-box;top: 0;bottom: 0;left: 50%;z-index: 0;}#sk-container-id-3 div.sk-serial {display: flex;flex-direction: column;align-items: center;background-color: white;padding-right: 0.2em;padding-left: 0.2em;position: relative;}#sk-container-id-3 div.sk-item {position: relative;z-index: 1;}#sk-container-id-3 div.sk-parallel {display: flex;align-items: stretch;justify-content: center;background-color: white;position: relative;}#sk-container-id-3 div.sk-item::before, #sk-container-id-3 div.sk-parallel-item::before {content: \"\";position: absolute;border-left: 1px solid gray;box-sizing: border-box;top: 0;bottom: 0;left: 50%;z-index: -1;}#sk-container-id-3 div.sk-parallel-item {display: flex;flex-direction: column;z-index: 1;position: relative;background-color: white;}#sk-container-id-3 div.sk-parallel-item:first-child::after {align-self: flex-end;width: 50%;}#sk-container-id-3 div.sk-parallel-item:last-child::after {align-self: flex-start;width: 50%;}#sk-container-id-3 div.sk-parallel-item:only-child::after {width: 0;}#sk-container-id-3 div.sk-dashed-wrapped {border: 1px dashed gray;margin: 0 0.4em 0.5em 0.4em;box-sizing: border-box;padding-bottom: 0.4em;background-color: white;}#sk-container-id-3 div.sk-label label {font-family: monospace;font-weight: bold;display: inline-block;line-height: 1.2em;}#sk-container-id-3 div.sk-label-container {text-align: center;}#sk-container-id-3 div.sk-container {/* jupyter's `normalize.less` sets `[hidden] { display: none; }` but bootstrap.min.css set `[hidden] { display: none !important; }` so we also need the `!important` here to be able to override the default hidden behavior on the sphinx rendered scikit-learn.org. See: https://github.com/scikit-learn/scikit-learn/issues/21755 */display: inline-block !important;position: relative;}#sk-container-id-3 div.sk-text-repr-fallback {display: none;}</style><div id=\"sk-container-id-3\" class=\"sk-top-container\"><div class=\"sk-text-repr-fallback\"><pre>GridSearchCV(estimator=MLPClassifier(random_state=4), n_jobs=5,\n",
       "             param_grid={&#x27;hidden_layer_sizes&#x27;: [[80, 80, 80, 80, 80],\n",
       "                                                [100, 100, 100, 100, 100],\n",
       "                                                [120, 120, 120, 120, 120],\n",
       "                                                [140, 140, 140, 140, 140],\n",
       "                                                [80, 80, 80, 80, 80, 80],\n",
       "                                                [100, 100, 100, 100, 100, 100],\n",
       "                                                [120, 120, 120, 120, 120, 120],\n",
       "                                                [140, 140, 140, 140, 140, 140],\n",
       "                                                [80, 80, 80, 80, 80, 80, 80],\n",
       "                                                [100, 100, 100, 100, 100, 100,\n",
       "                                                 100],\n",
       "                                                [120, 120, 120, 120, 120...\n",
       "                                                 140, 140, 140, 140],\n",
       "                                                [80, 80, 80, 80, 80, 80, 80, 80,\n",
       "                                                 80, 80, 80],\n",
       "                                                [100, 100, 100, 100, 100, 100,\n",
       "                                                 100, 100, 100, 100, 100],\n",
       "                                                [120, 120, 120, 120, 120, 120,\n",
       "                                                 120, 120, 120, 120, 120],\n",
       "                                                [140, 140, 140, 140, 140, 140,\n",
       "                                                 140, 140, 140, 140, 140],\n",
       "                                                [80, 80, 80, 80, 80, 80, 80, 80,\n",
       "                                                 80, 80, 80, 80],\n",
       "                                                [100, 100, 100, 100, 100, 100,\n",
       "                                                 100, 100, 100, 100, 100, 100], ...]},\n",
       "             refit=&#x27;recall_macro&#x27;, scoring=(&#x27;accuracy&#x27;, &#x27;recall_macro&#x27;),\n",
       "             verbose=3)</pre><b>In a Jupyter environment, please rerun this cell to show the HTML representation or trust the notebook. <br />On GitHub, the HTML representation is unable to render, please try loading this page with nbviewer.org.</b></div><div class=\"sk-container\" hidden><div class=\"sk-item sk-dashed-wrapped\"><div class=\"sk-label-container\"><div class=\"sk-label sk-toggleable\"><input class=\"sk-toggleable__control sk-hidden--visually\" id=\"sk-estimator-id-7\" type=\"checkbox\" ><label for=\"sk-estimator-id-7\" class=\"sk-toggleable__label sk-toggleable__label-arrow\">GridSearchCV</label><div class=\"sk-toggleable__content\"><pre>GridSearchCV(estimator=MLPClassifier(random_state=4), n_jobs=5,\n",
       "             param_grid={&#x27;hidden_layer_sizes&#x27;: [[80, 80, 80, 80, 80],\n",
       "                                                [100, 100, 100, 100, 100],\n",
       "                                                [120, 120, 120, 120, 120],\n",
       "                                                [140, 140, 140, 140, 140],\n",
       "                                                [80, 80, 80, 80, 80, 80],\n",
       "                                                [100, 100, 100, 100, 100, 100],\n",
       "                                                [120, 120, 120, 120, 120, 120],\n",
       "                                                [140, 140, 140, 140, 140, 140],\n",
       "                                                [80, 80, 80, 80, 80, 80, 80],\n",
       "                                                [100, 100, 100, 100, 100, 100,\n",
       "                                                 100],\n",
       "                                                [120, 120, 120, 120, 120...\n",
       "                                                 140, 140, 140, 140],\n",
       "                                                [80, 80, 80, 80, 80, 80, 80, 80,\n",
       "                                                 80, 80, 80],\n",
       "                                                [100, 100, 100, 100, 100, 100,\n",
       "                                                 100, 100, 100, 100, 100],\n",
       "                                                [120, 120, 120, 120, 120, 120,\n",
       "                                                 120, 120, 120, 120, 120],\n",
       "                                                [140, 140, 140, 140, 140, 140,\n",
       "                                                 140, 140, 140, 140, 140],\n",
       "                                                [80, 80, 80, 80, 80, 80, 80, 80,\n",
       "                                                 80, 80, 80, 80],\n",
       "                                                [100, 100, 100, 100, 100, 100,\n",
       "                                                 100, 100, 100, 100, 100, 100], ...]},\n",
       "             refit=&#x27;recall_macro&#x27;, scoring=(&#x27;accuracy&#x27;, &#x27;recall_macro&#x27;),\n",
       "             verbose=3)</pre></div></div></div><div class=\"sk-parallel\"><div class=\"sk-parallel-item\"><div class=\"sk-item\"><div class=\"sk-label-container\"><div class=\"sk-label sk-toggleable\"><input class=\"sk-toggleable__control sk-hidden--visually\" id=\"sk-estimator-id-8\" type=\"checkbox\" ><label for=\"sk-estimator-id-8\" class=\"sk-toggleable__label sk-toggleable__label-arrow\">estimator: MLPClassifier</label><div class=\"sk-toggleable__content\"><pre>MLPClassifier(random_state=4)</pre></div></div></div><div class=\"sk-serial\"><div class=\"sk-item\"><div class=\"sk-estimator sk-toggleable\"><input class=\"sk-toggleable__control sk-hidden--visually\" id=\"sk-estimator-id-9\" type=\"checkbox\" ><label for=\"sk-estimator-id-9\" class=\"sk-toggleable__label sk-toggleable__label-arrow\">MLPClassifier</label><div class=\"sk-toggleable__content\"><pre>MLPClassifier(random_state=4)</pre></div></div></div></div></div></div></div></div></div></div>"
      ],
      "text/plain": [
       "GridSearchCV(estimator=MLPClassifier(random_state=4), n_jobs=5,\n",
       "             param_grid={'hidden_layer_sizes': [[80, 80, 80, 80, 80],\n",
       "                                                [100, 100, 100, 100, 100],\n",
       "                                                [120, 120, 120, 120, 120],\n",
       "                                                [140, 140, 140, 140, 140],\n",
       "                                                [80, 80, 80, 80, 80, 80],\n",
       "                                                [100, 100, 100, 100, 100, 100],\n",
       "                                                [120, 120, 120, 120, 120, 120],\n",
       "                                                [140, 140, 140, 140, 140, 140],\n",
       "                                                [80, 80, 80, 80, 80, 80, 80],\n",
       "                                                [100, 100, 100, 100, 100, 100,\n",
       "                                                 100],\n",
       "                                                [120, 120, 120, 120, 120...\n",
       "                                                 140, 140, 140, 140],\n",
       "                                                [80, 80, 80, 80, 80, 80, 80, 80,\n",
       "                                                 80, 80, 80],\n",
       "                                                [100, 100, 100, 100, 100, 100,\n",
       "                                                 100, 100, 100, 100, 100],\n",
       "                                                [120, 120, 120, 120, 120, 120,\n",
       "                                                 120, 120, 120, 120, 120],\n",
       "                                                [140, 140, 140, 140, 140, 140,\n",
       "                                                 140, 140, 140, 140, 140],\n",
       "                                                [80, 80, 80, 80, 80, 80, 80, 80,\n",
       "                                                 80, 80, 80, 80],\n",
       "                                                [100, 100, 100, 100, 100, 100,\n",
       "                                                 100, 100, 100, 100, 100, 100], ...]},\n",
       "             refit='recall_macro', scoring=('accuracy', 'recall_macro'),\n",
       "             verbose=3)"
      ]
     },
     "execution_count": 21,
     "metadata": {},
     "output_type": "execute_result"
    }
   ],
   "source": [
    "satelite_p_clf = GridSearchCV(MLPClassifier(random_state=4), param_grid=satelite_perc_params, scoring=('accuracy', 'recall_macro'), n_jobs = 5, verbose=3, refit='recall_macro')\n",
    "satelite_p_clf.fit(satelite_X_train, satelite_y_train)"
   ]
  },
  {
   "cell_type": "code",
   "execution_count": 22,
   "metadata": {},
   "outputs": [
    {
     "name": "stdout",
     "output_type": "stream",
     "text": [
      "{'hidden_layer_sizes': [140, 140, 140, 140, 140]}\n",
      "0.7922762181795795\n"
     ]
    }
   ],
   "source": [
    "print(satelite_p_clf.best_params_)\n",
    "print(satelite_p_clf.best_score_)"
   ]
  },
  {
   "cell_type": "code",
   "execution_count": 23,
   "metadata": {},
   "outputs": [
    {
     "name": "stdout",
     "output_type": "stream",
     "text": [
      "Accuracy: 0.8495049504950495, Recall: 0.8497366076109275\n"
     ]
    }
   ],
   "source": [
    "satelite_perc_pred = satelite_p_clf.predict(satelite_X_test)\n",
    "satelite_perc_acc = accuracy_score(satelite_y_test,satelite_perc_pred)\n",
    "satelite_perc_rec = recall_score(satelite_y_test,satelite_perc_pred, average='macro')\n",
    "print(f'Accuracy: {satelite_perc_acc}, Recall: {satelite_perc_rec}')"
   ]
  }
 ],
 "metadata": {
  "kernelspec": {
   "display_name": "Python 3.9.7 64-bit",
   "language": "python",
   "name": "python3"
  },
  "language_info": {
   "codemirror_mode": {
    "name": "ipython",
    "version": 3
   },
   "file_extension": ".py",
   "mimetype": "text/x-python",
   "name": "python",
   "nbconvert_exporter": "python",
   "pygments_lexer": "ipython3",
   "version": "3.9.7"
  },
  "orig_nbformat": 4,
  "vscode": {
   "interpreter": {
    "hash": "11938c6bc6919ae2720b4d5011047913343b08a43b18698fd82dedb0d4417594"
   }
  }
 },
 "nbformat": 4,
 "nbformat_minor": 2
}
