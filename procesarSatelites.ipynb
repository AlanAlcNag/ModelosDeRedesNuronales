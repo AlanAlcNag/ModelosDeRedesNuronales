{
 "cells": [
  {
   "cell_type": "code",
   "execution_count": 1,
   "metadata": {},
   "outputs": [],
   "source": [
    "import numpy as np\n",
    "import pandas as pd\n",
    "\n",
    "from skimage import io\n",
    "from skimage.transform import resize\n",
    "from skimage.feature import graycomatrix, graycoprops\n",
    "from skimage.color import rgb2gray\n",
    "from skimage import img_as_ubyte, img_as_float64"
   ]
  },
  {
   "cell_type": "code",
   "execution_count": 2,
   "metadata": {},
   "outputs": [],
   "source": [
    "folders = ['Agua/*.*', 'Bosque/*.*', 'Ciudad/*.*', 'Cultivo/*.*', 'Desierto/*.*', 'Montaña/*.*']\n",
    "nbins = 16"
   ]
  },
  {
   "cell_type": "markdown",
   "metadata": {},
   "source": [
    "# features de imagenes"
   ]
  },
  {
   "cell_type": "code",
   "execution_count": null,
   "metadata": {},
   "outputs": [],
   "source": [
    "imagenes = pd.DataFrame()"
   ]
  },
  {
   "cell_type": "code",
   "execution_count": 47,
   "metadata": {},
   "outputs": [],
   "source": [
    "id = 0\n",
    "for folder in folders:\n",
    "    raw_folder = io.imread_collection(folder)\n",
    "    for img in raw_folder:\n",
    "        resized_img = resize(img, (128,128), anti_aliasing=True)\n",
    "\n",
    "        rh = np.histogram(resized_img[:,:,0].flatten(), nbins, density = True)\n",
    "        gh = np.histogram(resized_img[:,:,1].flatten(), nbins, density = True)\n",
    "        bh = np.histogram(resized_img[:,:,2].flatten(), nbins, density = True)\n",
    "        hist_descriptor = np.concatenate((rh[0], gh[0], bh[0]))\n",
    "\n",
    "        gray_resized = img_as_ubyte(rgb2gray(resized_img))\n",
    "        glcm = graycomatrix(gray_resized, distances=[5], angles=[0, np.pi/4, np.pi/2, 3*np.pi/4])\n",
    "        texture_desc = [graycoprops(glcm, 'dissimilarity')[0, 0], graycoprops(glcm, 'homogeneity')[0, 0], graycoprops(glcm, 'energy')[0, 0], graycoprops(glcm, 'correlation')[0, 0]]\n",
    "\n",
    "        img_descr = np.concatenate(([id], hist_descriptor, texture_desc))\n",
    "\n",
    "        img_df = pd.DataFrame([img_descr])\n",
    "    \n",
    "        imagenes = pd.concat([imagenes, img_df])\n",
    "    id += 1"
   ]
  },
  {
   "cell_type": "markdown",
   "metadata": {},
   "source": [
    "# imagenes a texto"
   ]
  },
  {
   "cell_type": "code",
   "execution_count": 3,
   "metadata": {},
   "outputs": [],
   "source": [
    "imagenes_color = pd.DataFrame()\n",
    "imagenes_gris = pd.DataFrame()"
   ]
  },
  {
   "cell_type": "code",
   "execution_count": 6,
   "metadata": {},
   "outputs": [],
   "source": [
    "id = 0\n",
    "for folder in folders:\n",
    "    raw_folder = io.imread_collection(folder)\n",
    "    for img in raw_folder:\n",
    "        resized_img = resize(img, (128,128), anti_aliasing=True)\n",
    "\n",
    "        gray_resized = img_as_float64(rgb2gray(resized_img))\n",
    "\n",
    "        img_color = np.concatenate(([id], img_as_float64(resized_img).flatten()))\n",
    "        img_grises = np.concatenate(([id], gray_resized.flatten()))\n",
    "\n",
    "        color_df = pd.DataFrame([img_color])\n",
    "        grises_df = pd.DataFrame([img_grises])\n",
    "    \n",
    "        imagenes_color = pd.concat([imagenes_color, color_df])\n",
    "        imagenes_gris = pd.concat([imagenes_gris, grises_df])\n",
    "    id += 1"
   ]
  },
  {
   "cell_type": "code",
   "execution_count": 8,
   "metadata": {},
   "outputs": [
    {
     "data": {
      "text/plain": [
       "(2016, 49153)"
      ]
     },
     "execution_count": 8,
     "metadata": {},
     "output_type": "execute_result"
    }
   ],
   "source": [
    "imagenes_color.shape"
   ]
  },
  {
   "cell_type": "code",
   "execution_count": 9,
   "metadata": {},
   "outputs": [],
   "source": [
    "imagenes_color.to_csv('satelites_color.csv', index=False, header=False)\n",
    "imagenes_gris.to_csv('satelites_grises.csv', index=False, header=False)"
   ]
  },
  {
   "cell_type": "code",
   "execution_count": 5,
   "metadata": {},
   "outputs": [
    {
     "data": {
      "text/plain": [
       "6220800"
      ]
     },
     "execution_count": 5,
     "metadata": {},
     "output_type": "execute_result"
    }
   ],
   "source": [
    "len(img_as_ubyte(io.imread('testing.jpg')).flatten())"
   ]
  }
 ],
 "metadata": {
  "kernelspec": {
   "display_name": "Python 3.9.7 64-bit",
   "language": "python",
   "name": "python3"
  },
  "language_info": {
   "codemirror_mode": {
    "name": "ipython",
    "version": 3
   },
   "file_extension": ".py",
   "mimetype": "text/x-python",
   "name": "python",
   "nbconvert_exporter": "python",
   "pygments_lexer": "ipython3",
   "version": "3.9.7"
  },
  "orig_nbformat": 4,
  "vscode": {
   "interpreter": {
    "hash": "11938c6bc6919ae2720b4d5011047913343b08a43b18698fd82dedb0d4417594"
   }
  }
 },
 "nbformat": 4,
 "nbformat_minor": 2
}
